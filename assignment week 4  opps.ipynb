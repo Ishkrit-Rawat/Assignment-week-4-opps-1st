{
 "cells": [
  {
   "cell_type": "markdown",
   "id": "7acde880-9f62-44db-9d12-961aa45050df",
   "metadata": {},
   "source": [
    "Q1, Create a vehicle class with an init method having instance variables as name_of_vehicle, max_speed\n",
    "and average_of_vehicle."
   ]
  },
  {
   "cell_type": "code",
   "execution_count": 1,
   "id": "c77d3481-8d62-4c2c-b4ca-59ca098b66b5",
   "metadata": {},
   "outputs": [],
   "source": [
    "class Vehicle:\n",
    "    def __init__(self, name_of_vehicle, max_speed, average_speed):\n",
    "        self.name_of_vehicle = name_of_vehicle\n",
    "        self.max_speed = max_speed\n",
    "        self.average_speed = average_speed\n"
   ]
  },
  {
   "cell_type": "code",
   "execution_count": 6,
   "id": "cdc55c86-eb0b-4d9e-80f8-79911189b56e",
   "metadata": {},
   "outputs": [],
   "source": [
    "car = Vehicle(\"BMW\", 200, 60)\n",
    "motorcycle = Vehicle(\"KTM\", 150, 50)"
   ]
  },
  {
   "cell_type": "code",
   "execution_count": 9,
   "id": "eaa17e25-cff3-40b5-9d3e-2fb7d44aea2b",
   "metadata": {},
   "outputs": [
    {
     "name": "stdout",
     "output_type": "stream",
     "text": [
      "BMW\n"
     ]
    }
   ],
   "source": [
    "print(car.name_of_vehicle)"
   ]
  },
  {
   "cell_type": "code",
   "execution_count": 10,
   "id": "2136208f-9fc0-4a63-b0d7-e1a6bee356ea",
   "metadata": {},
   "outputs": [
    {
     "name": "stdout",
     "output_type": "stream",
     "text": [
      "150\n"
     ]
    }
   ],
   "source": [
    "print(motorcycle.max_speed)"
   ]
  },
  {
   "cell_type": "code",
   "execution_count": null,
   "id": "778c039d-e90b-4a4e-8632-8f5e267e4d31",
   "metadata": {},
   "outputs": [],
   "source": []
  },
  {
   "cell_type": "markdown",
   "id": "54d825b2-3eed-402f-9ee9-04de52247307",
   "metadata": {},
   "source": [
    "Q2. Create a child class car from the vehicle class created in Que 1, which will inherit the vehicle class.\n",
    "Create a method named seating_capacity which takes capacity as an argument and returns the name of\n",
    "the vehicle and its seating capacity."
   ]
  },
  {
   "cell_type": "code",
   "execution_count": 26,
   "id": "f0e5dfc5-f1d7-4a15-96ea-cf07509823fc",
   "metadata": {},
   "outputs": [],
   "source": [
    "class Parent1:\n",
    "    def method1(self):\n",
    "        print(\"Method from Parent1\")\n",
    "\n",
    "class Parent2:\n",
    "    def method2(self):\n",
    "        print(\"Method from Parent2\")\n",
    "\n",
    "class Child(Parent1, Parent2):\n",
    "    def method3(self):\n",
    "        print(\"Method from Child\")\n"
   ]
  },
  {
   "cell_type": "code",
   "execution_count": 27,
   "id": "62b58a76-99b8-4221-ba6b-c3aa44ffaaeb",
   "metadata": {},
   "outputs": [],
   "source": [
    "child_instance = Child()"
   ]
  },
  {
   "cell_type": "code",
   "execution_count": 28,
   "id": "e2a4bbaf-357a-416c-8803-94a55c422d5f",
   "metadata": {},
   "outputs": [
    {
     "name": "stdout",
     "output_type": "stream",
     "text": [
      "Method from Parent1\n"
     ]
    }
   ],
   "source": [
    "child_instance.method1()"
   ]
  },
  {
   "cell_type": "code",
   "execution_count": 29,
   "id": "6e598254-4906-4f28-801a-2fba5b1c8115",
   "metadata": {},
   "outputs": [
    {
     "name": "stdout",
     "output_type": "stream",
     "text": [
      "Method from Parent2\n"
     ]
    }
   ],
   "source": [
    "child_instance.method2()"
   ]
  },
  {
   "cell_type": "code",
   "execution_count": 30,
   "id": "bc635a2b-4388-4a58-9368-b084e2b0b601",
   "metadata": {},
   "outputs": [
    {
     "name": "stdout",
     "output_type": "stream",
     "text": [
      "Method from Child\n"
     ]
    }
   ],
   "source": [
    "child_instance.method3()"
   ]
  },
  {
   "cell_type": "markdown",
   "id": "b682791e-a2f3-4232-8d94-3335bd84e69c",
   "metadata": {},
   "source": [
    "Q4. What are getter and setter in python? Create a class and create a getter and a setter method in this\n",
    "class."
   ]
  },
  {
   "cell_type": "markdown",
   "id": "042d96a1-f85b-4394-9035-757ea8108896",
   "metadata": {},
   "source": [
    "A method that allows you to access an attribute in a given class is called getter.\n",
    "A method that allows you to set or mutate the value of an attribute in a class is called setter."
   ]
  },
  {
   "cell_type": "code",
   "execution_count": null,
   "id": "3c5f49dc-5657-43f6-9331-781d17532134",
   "metadata": {},
   "outputs": [],
   "source": []
  }
 ],
 "metadata": {
  "kernelspec": {
   "display_name": "Python 3 (ipykernel)",
   "language": "python",
   "name": "python3"
  },
  "language_info": {
   "codemirror_mode": {
    "name": "ipython",
    "version": 3
   },
   "file_extension": ".py",
   "mimetype": "text/x-python",
   "name": "python",
   "nbconvert_exporter": "python",
   "pygments_lexer": "ipython3",
   "version": "3.10.8"
  }
 },
 "nbformat": 4,
 "nbformat_minor": 5
}
